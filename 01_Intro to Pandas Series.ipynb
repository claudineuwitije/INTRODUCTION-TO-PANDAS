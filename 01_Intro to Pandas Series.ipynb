{
 "cells": [
  {
   "cell_type": "markdown",
   "id": "b477cbc4",
   "metadata": {},
   "source": [
    "# Pandas\n",
    "\n",
    "## why pandas\n",
    "\n",
    "- Easy to use\n",
    "- consistent with other modules \n",
    "- Essential skill to be hired \n",
    "\n",
    "## What is pandas used for \n",
    "\n",
    "- loading data\n",
    "- Data cleansing\n",
    "- Data preprocessing and normalization\n",
    "- Merges and Joins\n",
    "- Data visualisation\n",
    "- Statistical analysis\n",
    "- Data inspection\n",
    "- etc."
   ]
  },
  {
   "cell_type": "markdown",
   "id": "105a4b2c",
   "metadata": {},
   "source": [
    "# Pandas Data structures \n",
    "- Pandas Series \n",
    "- Pandas Data Frame\n",
    "\n",
    "### Pandas series and pandas DataFrame are constructed on the top of  numpy Array which makes them fast"
   ]
  },
  {
   "cell_type": "markdown",
   "id": "c41ad7c9",
   "metadata": {},
   "source": [
    "## Pandas series\n",
    "\n",
    "- one dimensional array like structure ( one column)\n",
    "- Heterogeneous ( which means that can contain various type of data)"
   ]
  },
  {
   "cell_type": "code",
   "execution_count": 24,
   "id": "d298286d",
   "metadata": {},
   "outputs": [],
   "source": [
    "import pandas as pd"
   ]
  },
  {
   "cell_type": "code",
   "execution_count": 25,
   "id": "49517d64",
   "metadata": {},
   "outputs": [
    {
     "data": {
      "text/plain": [
       "'2.2.1'"
      ]
     },
     "execution_count": 25,
     "metadata": {},
     "output_type": "execute_result"
    }
   ],
   "source": [
    "pd.__version__ # verfiy the version of pandas"
   ]
  },
  {
   "cell_type": "code",
   "execution_count": 26,
   "id": "65984639",
   "metadata": {},
   "outputs": [
    {
     "data": {
      "text/plain": [
       "Series([], dtype: object)"
      ]
     },
     "execution_count": 26,
     "metadata": {},
     "output_type": "execute_result"
    }
   ],
   "source": [
    "s1=pd.Series()\n",
    "s1"
   ]
  },
  {
   "cell_type": "code",
   "execution_count": 27,
   "id": "b32e78cb",
   "metadata": {},
   "outputs": [
    {
     "data": {
      "text/plain": [
       "0    1\n",
       "1    2\n",
       "2    3\n",
       "3    4\n",
       "4    5\n",
       "dtype: int64"
      ]
     },
     "execution_count": 27,
     "metadata": {},
     "output_type": "execute_result"
    }
   ],
   "source": [
    "s2=pd.Series([1,2,3,4,5])\n",
    "s2 # creating a serie of number between 1 to 5"
   ]
  },
  {
   "cell_type": "code",
   "execution_count": 28,
   "id": "87fb3dad",
   "metadata": {},
   "outputs": [
    {
     "data": {
      "text/plain": [
       "RangeIndex(start=0, stop=5, step=1)"
      ]
     },
     "execution_count": 28,
     "metadata": {},
     "output_type": "execute_result"
    }
   ],
   "source": [
    "s2.index # extracting the range of index "
   ]
  },
  {
   "cell_type": "code",
   "execution_count": 29,
   "id": "f7e1b648",
   "metadata": {},
   "outputs": [
    {
     "data": {
      "text/plain": [
       "array([1, 2, 3, 4, 5], dtype=int64)"
      ]
     },
     "execution_count": 29,
     "metadata": {},
     "output_type": "execute_result"
    }
   ],
   "source": [
    "s2.values # extracting values "
   ]
  },
  {
   "cell_type": "code",
   "execution_count": 30,
   "id": "ca17e1d0",
   "metadata": {},
   "outputs": [
    {
     "data": {
      "text/plain": [
       "10    1\n",
       "20    2\n",
       "30    3\n",
       "40    4\n",
       "50    5\n",
       "dtype: int64"
      ]
     },
     "execution_count": 30,
     "metadata": {},
     "output_type": "execute_result"
    }
   ],
   "source": [
    "s3=pd.Series([1,2,3,4,5], index= [10,20,30,40,50])\n",
    "s3  # creating a serie and assigning index "
   ]
  },
  {
   "cell_type": "code",
   "execution_count": 31,
   "id": "f4a7571e",
   "metadata": {},
   "outputs": [
    {
     "data": {
      "text/plain": [
       "Bob        3.2\n",
       "Claudia    4.5\n",
       "Aline      2.6\n",
       "Kenzo      5.0\n",
       "Arnauld    4.0\n",
       "dtype: float64"
      ]
     },
     "execution_count": 31,
     "metadata": {},
     "output_type": "execute_result"
    }
   ],
   "source": [
    "scores=pd.Series([3.2,4.5,2.6,5,4], index=[\"Bob\",\"Claudia\",\"Aline\",\"Kenzo\", \"Arnauld\"])\n",
    "scores"
   ]
  },
  {
   "cell_type": "code",
   "execution_count": 32,
   "id": "285825ba",
   "metadata": {},
   "outputs": [
    {
     "data": {
      "text/plain": [
       "Index(['Bob', 'Claudia', 'Aline', 'Kenzo', 'Arnauld'], dtype='object')"
      ]
     },
     "execution_count": 32,
     "metadata": {},
     "output_type": "execute_result"
    }
   ],
   "source": [
    "scores.index"
   ]
  },
  {
   "cell_type": "code",
   "execution_count": 15,
   "id": "1c2c622d",
   "metadata": {},
   "outputs": [
    {
     "data": {
      "text/plain": [
       "array([3.2, 4.5, 2.6, 5. , 4. ])"
      ]
     },
     "execution_count": 15,
     "metadata": {},
     "output_type": "execute_result"
    }
   ],
   "source": [
    "scores.values"
   ]
  },
  {
   "cell_type": "code",
   "execution_count": 45,
   "id": "19c4d90e",
   "metadata": {},
   "outputs": [
    {
     "data": {
      "text/plain": [
       "Bob        3.2\n",
       "Claudia    4.5\n",
       "Aline      2.6\n",
       "Kenzo      5.0\n",
       "Arnauld    3.8\n",
       "dtype: float64"
      ]
     },
     "execution_count": 45,
     "metadata": {},
     "output_type": "execute_result"
    }
   ],
   "source": [
    "### converting  a dictionary into a serie\n",
    "\n",
    "StudentScores={'Bob':3.2, 'Claudia':4.5, 'Aline':2.6, 'Kenzo':5, 'Arnauld': 3.8}\n",
    "s4=pd.Series(StudentScores)\n",
    "s4"
   ]
  },
  {
   "cell_type": "code",
   "execution_count": 34,
   "id": "b68b8604",
   "metadata": {},
   "outputs": [
    {
     "data": {
      "text/plain": [
       "Index(['Bob', 'Claudia', 'Aline', 'Kenzo', 'Arnauld'], dtype='object')"
      ]
     },
     "execution_count": 34,
     "metadata": {},
     "output_type": "execute_result"
    }
   ],
   "source": [
    "s4.index"
   ]
  },
  {
   "cell_type": "code",
   "execution_count": 35,
   "id": "7edb91ea",
   "metadata": {},
   "outputs": [
    {
     "data": {
      "text/plain": [
       "array([3.2, 4.5, 2.6, 5. , 3.8])"
      ]
     },
     "execution_count": 35,
     "metadata": {},
     "output_type": "execute_result"
    }
   ],
   "source": [
    "s4.values"
   ]
  },
  {
   "cell_type": "code",
   "execution_count": null,
   "id": "c8c729d5",
   "metadata": {},
   "outputs": [],
   "source": []
  }
 ],
 "metadata": {
  "kernelspec": {
   "display_name": "Python 3 (ipykernel)",
   "language": "python",
   "name": "python3"
  },
  "language_info": {
   "codemirror_mode": {
    "name": "ipython",
    "version": 3
   },
   "file_extension": ".py",
   "mimetype": "text/x-python",
   "name": "python",
   "nbconvert_exporter": "python",
   "pygments_lexer": "ipython3",
   "version": "3.9.19"
  }
 },
 "nbformat": 4,
 "nbformat_minor": 5
}
