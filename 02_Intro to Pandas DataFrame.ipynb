{
 "cells": [
  {
   "cell_type": "markdown",
   "id": "f35b312a",
   "metadata": {},
   "source": [
    "# Pandas DataFrame\n",
    "\n",
    "- stores data in tabular form\n",
    "- Each column can be of a different data type (e.g., integers, floats, strings), \n",
    "- Each rows represent individual records."
   ]
  },
  {
   "cell_type": "code",
   "execution_count": 12,
   "id": "1fa2b297",
   "metadata": {},
   "outputs": [],
   "source": [
    "import pandas as pd"
   ]
  },
  {
   "cell_type": "code",
   "execution_count": 4,
   "id": "45ade6cb",
   "metadata": {},
   "outputs": [],
   "source": [
    "df1=pd.DataFrame() #Creating an empty DataFrame"
   ]
  },
  {
   "cell_type": "code",
   "execution_count": 6,
   "id": "a9d3cdb6",
   "metadata": {},
   "outputs": [
    {
     "name": "stdout",
     "output_type": "stream",
     "text": [
      "Empty DataFrame\n",
      "Columns: []\n",
      "Index: []\n"
     ]
    }
   ],
   "source": [
    "type(df1)\n",
    "print(df1)"
   ]
  },
  {
   "cell_type": "code",
   "execution_count": 7,
   "id": "0b81106d",
   "metadata": {},
   "outputs": [
    {
     "data": {
      "text/plain": [
       "RangeIndex(start=0, stop=0, step=1)"
      ]
     },
     "execution_count": 7,
     "metadata": {},
     "output_type": "execute_result"
    }
   ],
   "source": [
    "df1.columns"
   ]
  },
  {
   "cell_type": "code",
   "execution_count": 8,
   "id": "9ff777c6",
   "metadata": {},
   "outputs": [
    {
     "data": {
      "text/plain": [
       "RangeIndex(start=0, stop=0, step=1)"
      ]
     },
     "execution_count": 8,
     "metadata": {},
     "output_type": "execute_result"
    }
   ],
   "source": [
    "df1.index"
   ]
  },
  {
   "cell_type": "code",
   "execution_count": 32,
   "id": "fc828ff3",
   "metadata": {},
   "outputs": [],
   "source": [
    "students_list=[[\"Claudia\", \"Alice\",26,\"data science\", 86],\n",
    "             [\"Clarisse\", \"Lorena\", 35, \"Data analytics\", 90],\n",
    "             [\"Merci\", \"Kael\", 30, \"Data engineering\", 80],\n",
    "             [\"Emma\", \"Johnson\",28, \"Cyber security\", 75]]  # Defining  the nested list "
   ]
  },
  {
   "cell_type": "code",
   "execution_count": 33,
   "id": "d67b50da",
   "metadata": {},
   "outputs": [
    {
     "data": {
      "text/html": [
       "<div>\n",
       "<style scoped>\n",
       "    .dataframe tbody tr th:only-of-type {\n",
       "        vertical-align: middle;\n",
       "    }\n",
       "\n",
       "    .dataframe tbody tr th {\n",
       "        vertical-align: top;\n",
       "    }\n",
       "\n",
       "    .dataframe thead th {\n",
       "        text-align: right;\n",
       "    }\n",
       "</style>\n",
       "<table border=\"1\" class=\"dataframe\">\n",
       "  <thead>\n",
       "    <tr style=\"text-align: right;\">\n",
       "      <th></th>\n",
       "      <th>0</th>\n",
       "      <th>1</th>\n",
       "      <th>2</th>\n",
       "      <th>3</th>\n",
       "      <th>4</th>\n",
       "    </tr>\n",
       "  </thead>\n",
       "  <tbody>\n",
       "    <tr>\n",
       "      <th>0</th>\n",
       "      <td>Claudia</td>\n",
       "      <td>Alice</td>\n",
       "      <td>26</td>\n",
       "      <td>data science</td>\n",
       "      <td>86</td>\n",
       "    </tr>\n",
       "    <tr>\n",
       "      <th>1</th>\n",
       "      <td>Clarisse</td>\n",
       "      <td>Lorena</td>\n",
       "      <td>35</td>\n",
       "      <td>Data analytics</td>\n",
       "      <td>90</td>\n",
       "    </tr>\n",
       "    <tr>\n",
       "      <th>2</th>\n",
       "      <td>Merci</td>\n",
       "      <td>Kael</td>\n",
       "      <td>30</td>\n",
       "      <td>Data engineering</td>\n",
       "      <td>80</td>\n",
       "    </tr>\n",
       "    <tr>\n",
       "      <th>3</th>\n",
       "      <td>Emma</td>\n",
       "      <td>Johnson</td>\n",
       "      <td>28</td>\n",
       "      <td>Cyber security</td>\n",
       "      <td>75</td>\n",
       "    </tr>\n",
       "  </tbody>\n",
       "</table>\n",
       "</div>"
      ],
      "text/plain": [
       "          0        1   2                 3   4\n",
       "0   Claudia    Alice  26      data science  86\n",
       "1  Clarisse   Lorena  35    Data analytics  90\n",
       "2     Merci     Kael  30  Data engineering  80\n",
       "3      Emma  Johnson  28    Cyber security  75"
      ]
     },
     "execution_count": 33,
     "metadata": {},
     "output_type": "execute_result"
    }
   ],
   "source": [
    "students_df=pd.DataFrame(students_list)\n",
    "students_df # converting a list into a DataFrame"
   ]
  },
  {
   "cell_type": "code",
   "execution_count": 25,
   "id": "0d91d7e4",
   "metadata": {},
   "outputs": [
    {
     "data": {
      "text/html": [
       "<div>\n",
       "<style scoped>\n",
       "    .dataframe tbody tr th:only-of-type {\n",
       "        vertical-align: middle;\n",
       "    }\n",
       "\n",
       "    .dataframe tbody tr th {\n",
       "        vertical-align: top;\n",
       "    }\n",
       "\n",
       "    .dataframe thead th {\n",
       "        text-align: right;\n",
       "    }\n",
       "</style>\n",
       "<table border=\"1\" class=\"dataframe\">\n",
       "  <thead>\n",
       "    <tr style=\"text-align: right;\">\n",
       "      <th></th>\n",
       "      <th>First_Name</th>\n",
       "      <th>Last_Name</th>\n",
       "      <th>Age</th>\n",
       "      <th>Major</th>\n",
       "      <th>Score</th>\n",
       "    </tr>\n",
       "  </thead>\n",
       "  <tbody>\n",
       "    <tr>\n",
       "      <th>0</th>\n",
       "      <td>Claudia</td>\n",
       "      <td>Alice</td>\n",
       "      <td>26</td>\n",
       "      <td>data science</td>\n",
       "      <td>86</td>\n",
       "    </tr>\n",
       "    <tr>\n",
       "      <th>1</th>\n",
       "      <td>Clarisse</td>\n",
       "      <td>Lorena</td>\n",
       "      <td>35</td>\n",
       "      <td>Data analytics</td>\n",
       "      <td>90</td>\n",
       "    </tr>\n",
       "    <tr>\n",
       "      <th>2</th>\n",
       "      <td>Merci</td>\n",
       "      <td>Kael</td>\n",
       "      <td>30</td>\n",
       "      <td>Data engineering</td>\n",
       "      <td>80</td>\n",
       "    </tr>\n",
       "    <tr>\n",
       "      <th>3</th>\n",
       "      <td>Emma</td>\n",
       "      <td>Johnson</td>\n",
       "      <td>28</td>\n",
       "      <td>Cyber security</td>\n",
       "      <td>75</td>\n",
       "    </tr>\n",
       "  </tbody>\n",
       "</table>\n",
       "</div>"
      ],
      "text/plain": [
       "  First_Name Last_Name  Age             Major  Score\n",
       "0    Claudia     Alice   26      data science     86\n",
       "1   Clarisse    Lorena   35    Data analytics     90\n",
       "2      Merci      Kael   30  Data engineering     80\n",
       "3       Emma   Johnson   28    Cyber security     75"
      ]
     },
     "execution_count": 25,
     "metadata": {},
     "output_type": "execute_result"
    }
   ],
   "source": [
    "students_df=pd.DataFrame(student_list, columns=[\"First_Name\", \"Last_Name\",\"Age\",\"Major\",\"Score\"])\n",
    "students_df # renaming the variable (header of columns)"
   ]
  },
  {
   "cell_type": "code",
   "execution_count": 39,
   "id": "a6551112",
   "metadata": {},
   "outputs": [
    {
     "data": {
      "text/html": [
       "<div>\n",
       "<style scoped>\n",
       "    .dataframe tbody tr th:only-of-type {\n",
       "        vertical-align: middle;\n",
       "    }\n",
       "\n",
       "    .dataframe tbody tr th {\n",
       "        vertical-align: top;\n",
       "    }\n",
       "\n",
       "    .dataframe thead th {\n",
       "        text-align: right;\n",
       "    }\n",
       "</style>\n",
       "<table border=\"1\" class=\"dataframe\">\n",
       "  <thead>\n",
       "    <tr style=\"text-align: right;\">\n",
       "      <th></th>\n",
       "      <th>First_Name</th>\n",
       "      <th>Last_Name</th>\n",
       "      <th>Age</th>\n",
       "      <th>Major</th>\n",
       "      <th>Score</th>\n",
       "    </tr>\n",
       "  </thead>\n",
       "  <tbody>\n",
       "    <tr>\n",
       "      <th>ID_1</th>\n",
       "      <td>Claudia</td>\n",
       "      <td>Alice</td>\n",
       "      <td>26</td>\n",
       "      <td>data science</td>\n",
       "      <td>86</td>\n",
       "    </tr>\n",
       "    <tr>\n",
       "      <th>ID_2</th>\n",
       "      <td>Clarisse</td>\n",
       "      <td>Lorena</td>\n",
       "      <td>35</td>\n",
       "      <td>Data analytics</td>\n",
       "      <td>90</td>\n",
       "    </tr>\n",
       "    <tr>\n",
       "      <th>ID_3</th>\n",
       "      <td>Merci</td>\n",
       "      <td>Kael</td>\n",
       "      <td>30</td>\n",
       "      <td>Data engineering</td>\n",
       "      <td>80</td>\n",
       "    </tr>\n",
       "    <tr>\n",
       "      <th>ID_4</th>\n",
       "      <td>Emma</td>\n",
       "      <td>Johnson</td>\n",
       "      <td>28</td>\n",
       "      <td>Cyber security</td>\n",
       "      <td>75</td>\n",
       "    </tr>\n",
       "  </tbody>\n",
       "</table>\n",
       "</div>"
      ],
      "text/plain": [
       "     First_Name Last_Name  Age             Major  Score\n",
       "ID_1    Claudia     Alice   26      data science     86\n",
       "ID_2   Clarisse    Lorena   35    Data analytics     90\n",
       "ID_3      Merci      Kael   30  Data engineering     80\n",
       "ID_4       Emma   Johnson   28    Cyber security     75"
      ]
     },
     "execution_count": 39,
     "metadata": {},
     "output_type": "execute_result"
    }
   ],
   "source": [
    "students_df1=pd.DataFrame(student_list, columns=[\"First_Name\", \"Last_Name\",\"Age\",\"Major\",\"Score\"],index=[\"ID_1\",\"ID_2\",\"ID_3\",\"ID_4\"])\n",
    "students_df1 # renaming the Index (rows indexes)"
   ]
  },
  {
   "cell_type": "code",
   "execution_count": 29,
   "id": "52a9f224",
   "metadata": {},
   "outputs": [],
   "source": [
    "students_dict={\"First_Name\":[\"Claudia\",\"Clarisse\", \"Merci\",\"Emma\"],\n",
    "               \"Last_Name\":[\"Alice\",\"Lorena\",\"Kael\",\"Johnson\"],\n",
    "               \"Age\": [26,35,30,28],\n",
    "               \"Major\":[\"data science\",\"Data analytics\",\"Data engineering\",\"Cyber security\"], \n",
    "               \"Score\":[86,90,80,75]}   # Defining a dictionary "
   ]
  },
  {
   "cell_type": "code",
   "execution_count": 40,
   "id": "99b6a8f6",
   "metadata": {},
   "outputs": [
    {
     "data": {
      "text/html": [
       "<div>\n",
       "<style scoped>\n",
       "    .dataframe tbody tr th:only-of-type {\n",
       "        vertical-align: middle;\n",
       "    }\n",
       "\n",
       "    .dataframe tbody tr th {\n",
       "        vertical-align: top;\n",
       "    }\n",
       "\n",
       "    .dataframe thead th {\n",
       "        text-align: right;\n",
       "    }\n",
       "</style>\n",
       "<table border=\"1\" class=\"dataframe\">\n",
       "  <thead>\n",
       "    <tr style=\"text-align: right;\">\n",
       "      <th></th>\n",
       "      <th>First_Name</th>\n",
       "      <th>Last_Name</th>\n",
       "      <th>Age</th>\n",
       "      <th>Major</th>\n",
       "      <th>Score</th>\n",
       "    </tr>\n",
       "  </thead>\n",
       "  <tbody>\n",
       "    <tr>\n",
       "      <th>0</th>\n",
       "      <td>Claudia</td>\n",
       "      <td>Alice</td>\n",
       "      <td>26</td>\n",
       "      <td>data science</td>\n",
       "      <td>86</td>\n",
       "    </tr>\n",
       "    <tr>\n",
       "      <th>1</th>\n",
       "      <td>Clarisse</td>\n",
       "      <td>Lorena</td>\n",
       "      <td>35</td>\n",
       "      <td>Data analytics</td>\n",
       "      <td>90</td>\n",
       "    </tr>\n",
       "    <tr>\n",
       "      <th>2</th>\n",
       "      <td>Merci</td>\n",
       "      <td>Kael</td>\n",
       "      <td>30</td>\n",
       "      <td>Data engineering</td>\n",
       "      <td>80</td>\n",
       "    </tr>\n",
       "    <tr>\n",
       "      <th>3</th>\n",
       "      <td>Emma</td>\n",
       "      <td>Johnson</td>\n",
       "      <td>28</td>\n",
       "      <td>Cyber security</td>\n",
       "      <td>75</td>\n",
       "    </tr>\n",
       "  </tbody>\n",
       "</table>\n",
       "</div>"
      ],
      "text/plain": [
       "  First_Name Last_Name  Age             Major  Score\n",
       "0    Claudia     Alice   26      data science     86\n",
       "1   Clarisse    Lorena   35    Data analytics     90\n",
       "2      Merci      Kael   30  Data engineering     80\n",
       "3       Emma   Johnson   28    Cyber security     75"
      ]
     },
     "execution_count": 40,
     "metadata": {},
     "output_type": "execute_result"
    }
   ],
   "source": [
    "students_df2=pd.DataFrame(students_dict)  # converting a dictionnary into a DataFrame\n",
    "students_df2 "
   ]
  },
  {
   "cell_type": "code",
   "execution_count": 41,
   "id": "a1ba3a94",
   "metadata": {},
   "outputs": [
    {
     "data": {
      "text/html": [
       "<div>\n",
       "<style scoped>\n",
       "    .dataframe tbody tr th:only-of-type {\n",
       "        vertical-align: middle;\n",
       "    }\n",
       "\n",
       "    .dataframe tbody tr th {\n",
       "        vertical-align: top;\n",
       "    }\n",
       "\n",
       "    .dataframe thead th {\n",
       "        text-align: right;\n",
       "    }\n",
       "</style>\n",
       "<table border=\"1\" class=\"dataframe\">\n",
       "  <thead>\n",
       "    <tr style=\"text-align: right;\">\n",
       "      <th></th>\n",
       "      <th>First_Name</th>\n",
       "      <th>Last_Name</th>\n",
       "      <th>Age</th>\n",
       "    </tr>\n",
       "  </thead>\n",
       "  <tbody>\n",
       "    <tr>\n",
       "      <th>0</th>\n",
       "      <td>Claudia</td>\n",
       "      <td>Alice</td>\n",
       "      <td>26</td>\n",
       "    </tr>\n",
       "    <tr>\n",
       "      <th>1</th>\n",
       "      <td>Clarisse</td>\n",
       "      <td>Lorena</td>\n",
       "      <td>35</td>\n",
       "    </tr>\n",
       "    <tr>\n",
       "      <th>2</th>\n",
       "      <td>Merci</td>\n",
       "      <td>Kael</td>\n",
       "      <td>30</td>\n",
       "    </tr>\n",
       "    <tr>\n",
       "      <th>3</th>\n",
       "      <td>Emma</td>\n",
       "      <td>Johnson</td>\n",
       "      <td>28</td>\n",
       "    </tr>\n",
       "  </tbody>\n",
       "</table>\n",
       "</div>"
      ],
      "text/plain": [
       "  First_Name Last_Name  Age\n",
       "0    Claudia     Alice   26\n",
       "1   Clarisse    Lorena   35\n",
       "2      Merci      Kael   30\n",
       "3       Emma   Johnson   28"
      ]
     },
     "execution_count": 41,
     "metadata": {},
     "output_type": "execute_result"
    }
   ],
   "source": [
    "students_df2=pd.DataFrame(students_dict, columns=[\"First_Name\",\"Last_Name\",\"Age\"])   # Extracting specific columns\n",
    "students_df2"
   ]
  },
  {
   "cell_type": "code",
   "execution_count": 42,
   "id": "e7328a42",
   "metadata": {},
   "outputs": [
    {
     "data": {
      "text/html": [
       "<div>\n",
       "<style scoped>\n",
       "    .dataframe tbody tr th:only-of-type {\n",
       "        vertical-align: middle;\n",
       "    }\n",
       "\n",
       "    .dataframe tbody tr th {\n",
       "        vertical-align: top;\n",
       "    }\n",
       "\n",
       "    .dataframe thead th {\n",
       "        text-align: right;\n",
       "    }\n",
       "</style>\n",
       "<table border=\"1\" class=\"dataframe\">\n",
       "  <thead>\n",
       "    <tr style=\"text-align: right;\">\n",
       "      <th></th>\n",
       "      <th>First_Name</th>\n",
       "      <th>Last_Name</th>\n",
       "      <th>Age</th>\n",
       "      <th>City</th>\n",
       "    </tr>\n",
       "  </thead>\n",
       "  <tbody>\n",
       "    <tr>\n",
       "      <th>0</th>\n",
       "      <td>Claudia</td>\n",
       "      <td>Alice</td>\n",
       "      <td>26</td>\n",
       "      <td>NaN</td>\n",
       "    </tr>\n",
       "    <tr>\n",
       "      <th>1</th>\n",
       "      <td>Clarisse</td>\n",
       "      <td>Lorena</td>\n",
       "      <td>35</td>\n",
       "      <td>NaN</td>\n",
       "    </tr>\n",
       "    <tr>\n",
       "      <th>2</th>\n",
       "      <td>Merci</td>\n",
       "      <td>Kael</td>\n",
       "      <td>30</td>\n",
       "      <td>NaN</td>\n",
       "    </tr>\n",
       "    <tr>\n",
       "      <th>3</th>\n",
       "      <td>Emma</td>\n",
       "      <td>Johnson</td>\n",
       "      <td>28</td>\n",
       "      <td>NaN</td>\n",
       "    </tr>\n",
       "  </tbody>\n",
       "</table>\n",
       "</div>"
      ],
      "text/plain": [
       "  First_Name Last_Name  Age City\n",
       "0    Claudia     Alice   26  NaN\n",
       "1   Clarisse    Lorena   35  NaN\n",
       "2      Merci      Kael   30  NaN\n",
       "3       Emma   Johnson   28  NaN"
      ]
     },
     "execution_count": 42,
     "metadata": {},
     "output_type": "execute_result"
    }
   ],
   "source": [
    "students_df2=pd.DataFrame(students_dict, columns=[\"First_Name\",\"Last_Name\",\"Age\", \"City\"]) \n",
    "students_df2    # Adding a variable with null value"
   ]
  },
  {
   "cell_type": "code",
   "execution_count": 43,
   "id": "aa7da100",
   "metadata": {},
   "outputs": [
    {
     "data": {
      "text/html": [
       "<div>\n",
       "<style scoped>\n",
       "    .dataframe tbody tr th:only-of-type {\n",
       "        vertical-align: middle;\n",
       "    }\n",
       "\n",
       "    .dataframe tbody tr th {\n",
       "        vertical-align: top;\n",
       "    }\n",
       "\n",
       "    .dataframe thead th {\n",
       "        text-align: right;\n",
       "    }\n",
       "</style>\n",
       "<table border=\"1\" class=\"dataframe\">\n",
       "  <thead>\n",
       "    <tr style=\"text-align: right;\">\n",
       "      <th></th>\n",
       "      <th>First_Name</th>\n",
       "      <th>Last_Name</th>\n",
       "      <th>Age</th>\n",
       "      <th>Major</th>\n",
       "      <th>Score</th>\n",
       "    </tr>\n",
       "  </thead>\n",
       "  <tbody>\n",
       "    <tr>\n",
       "      <th>ID_1</th>\n",
       "      <td>Claudia</td>\n",
       "      <td>Alice</td>\n",
       "      <td>26</td>\n",
       "      <td>data science</td>\n",
       "      <td>86</td>\n",
       "    </tr>\n",
       "    <tr>\n",
       "      <th>ID_2</th>\n",
       "      <td>Clarisse</td>\n",
       "      <td>Lorena</td>\n",
       "      <td>35</td>\n",
       "      <td>Data analytics</td>\n",
       "      <td>90</td>\n",
       "    </tr>\n",
       "    <tr>\n",
       "      <th>ID_3</th>\n",
       "      <td>Merci</td>\n",
       "      <td>Kael</td>\n",
       "      <td>30</td>\n",
       "      <td>Data engineering</td>\n",
       "      <td>80</td>\n",
       "    </tr>\n",
       "    <tr>\n",
       "      <th>ID_4</th>\n",
       "      <td>Emma</td>\n",
       "      <td>Johnson</td>\n",
       "      <td>28</td>\n",
       "      <td>Cyber security</td>\n",
       "      <td>75</td>\n",
       "    </tr>\n",
       "  </tbody>\n",
       "</table>\n",
       "</div>"
      ],
      "text/plain": [
       "     First_Name Last_Name  Age             Major  Score\n",
       "ID_1    Claudia     Alice   26      data science     86\n",
       "ID_2   Clarisse    Lorena   35    Data analytics     90\n",
       "ID_3      Merci      Kael   30  Data engineering     80\n",
       "ID_4       Emma   Johnson   28    Cyber security     75"
      ]
     },
     "execution_count": 43,
     "metadata": {},
     "output_type": "execute_result"
    }
   ],
   "source": [
    "students_df1"
   ]
  },
  {
   "cell_type": "markdown",
   "id": "c6f62d56",
   "metadata": {},
   "source": [
    "# Attribute of a DataFrame \n",
    "- variable index (Variable labels)\n",
    "- Index( rows labels)"
   ]
  },
  {
   "cell_type": "code",
   "execution_count": 44,
   "id": "f768ec90",
   "metadata": {},
   "outputs": [
    {
     "data": {
      "text/plain": [
       "Index(['First_Name', 'Last_Name', 'Age', 'Major', 'Score'], dtype='object')"
      ]
     },
     "execution_count": 44,
     "metadata": {},
     "output_type": "execute_result"
    }
   ],
   "source": [
    "students_df1.columns"
   ]
  },
  {
   "cell_type": "code",
   "execution_count": 45,
   "id": "38920094",
   "metadata": {},
   "outputs": [
    {
     "data": {
      "text/plain": [
       "Index(['ID_1', 'ID_2', 'ID_3', 'ID_4'], dtype='object')"
      ]
     },
     "execution_count": 45,
     "metadata": {},
     "output_type": "execute_result"
    }
   ],
   "source": [
    "students_df1.index"
   ]
  },
  {
   "cell_type": "code",
   "execution_count": 46,
   "id": "0a5a2771",
   "metadata": {},
   "outputs": [
    {
     "data": {
      "text/plain": [
       "(4, 5)"
      ]
     },
     "execution_count": 46,
     "metadata": {},
     "output_type": "execute_result"
    }
   ],
   "source": [
    "students_df1.shape # extracting the dimension of the DataFrame"
   ]
  },
  {
   "cell_type": "code",
   "execution_count": 47,
   "id": "8931d45e",
   "metadata": {},
   "outputs": [
    {
     "data": {
      "text/html": [
       "<div>\n",
       "<style scoped>\n",
       "    .dataframe tbody tr th:only-of-type {\n",
       "        vertical-align: middle;\n",
       "    }\n",
       "\n",
       "    .dataframe tbody tr th {\n",
       "        vertical-align: top;\n",
       "    }\n",
       "\n",
       "    .dataframe thead th {\n",
       "        text-align: right;\n",
       "    }\n",
       "</style>\n",
       "<table border=\"1\" class=\"dataframe\">\n",
       "  <thead>\n",
       "    <tr style=\"text-align: right;\">\n",
       "      <th></th>\n",
       "      <th>First_Name</th>\n",
       "      <th>Last_Name</th>\n",
       "      <th>Age</th>\n",
       "      <th>Major</th>\n",
       "      <th>Score</th>\n",
       "    </tr>\n",
       "  </thead>\n",
       "  <tbody>\n",
       "    <tr>\n",
       "      <th>ID_1</th>\n",
       "      <td>Claudia</td>\n",
       "      <td>Alice</td>\n",
       "      <td>26</td>\n",
       "      <td>data science</td>\n",
       "      <td>86</td>\n",
       "    </tr>\n",
       "    <tr>\n",
       "      <th>ID_2</th>\n",
       "      <td>Clarisse</td>\n",
       "      <td>Lorena</td>\n",
       "      <td>35</td>\n",
       "      <td>Data analytics</td>\n",
       "      <td>90</td>\n",
       "    </tr>\n",
       "  </tbody>\n",
       "</table>\n",
       "</div>"
      ],
      "text/plain": [
       "     First_Name Last_Name  Age           Major  Score\n",
       "ID_1    Claudia     Alice   26    data science     86\n",
       "ID_2   Clarisse    Lorena   35  Data analytics     90"
      ]
     },
     "execution_count": 47,
     "metadata": {},
     "output_type": "execute_result"
    }
   ],
   "source": [
    "students_df1.head(2) # extracting a certain number of first rows using \"head\" n a DataFrame"
   ]
  },
  {
   "cell_type": "code",
   "execution_count": 48,
   "id": "3bbfde2c",
   "metadata": {},
   "outputs": [
    {
     "data": {
      "text/html": [
       "<div>\n",
       "<style scoped>\n",
       "    .dataframe tbody tr th:only-of-type {\n",
       "        vertical-align: middle;\n",
       "    }\n",
       "\n",
       "    .dataframe tbody tr th {\n",
       "        vertical-align: top;\n",
       "    }\n",
       "\n",
       "    .dataframe thead th {\n",
       "        text-align: right;\n",
       "    }\n",
       "</style>\n",
       "<table border=\"1\" class=\"dataframe\">\n",
       "  <thead>\n",
       "    <tr style=\"text-align: right;\">\n",
       "      <th></th>\n",
       "      <th>First_Name</th>\n",
       "      <th>Last_Name</th>\n",
       "      <th>Age</th>\n",
       "      <th>Major</th>\n",
       "      <th>Score</th>\n",
       "    </tr>\n",
       "  </thead>\n",
       "  <tbody>\n",
       "    <tr>\n",
       "      <th>ID_2</th>\n",
       "      <td>Clarisse</td>\n",
       "      <td>Lorena</td>\n",
       "      <td>35</td>\n",
       "      <td>Data analytics</td>\n",
       "      <td>90</td>\n",
       "    </tr>\n",
       "    <tr>\n",
       "      <th>ID_3</th>\n",
       "      <td>Merci</td>\n",
       "      <td>Kael</td>\n",
       "      <td>30</td>\n",
       "      <td>Data engineering</td>\n",
       "      <td>80</td>\n",
       "    </tr>\n",
       "    <tr>\n",
       "      <th>ID_4</th>\n",
       "      <td>Emma</td>\n",
       "      <td>Johnson</td>\n",
       "      <td>28</td>\n",
       "      <td>Cyber security</td>\n",
       "      <td>75</td>\n",
       "    </tr>\n",
       "  </tbody>\n",
       "</table>\n",
       "</div>"
      ],
      "text/plain": [
       "     First_Name Last_Name  Age             Major  Score\n",
       "ID_2   Clarisse    Lorena   35    Data analytics     90\n",
       "ID_3      Merci      Kael   30  Data engineering     80\n",
       "ID_4       Emma   Johnson   28    Cyber security     75"
      ]
     },
     "execution_count": 48,
     "metadata": {},
     "output_type": "execute_result"
    }
   ],
   "source": [
    "students_df1.tail(3) # extracting a certain number of last rows using \"tail\" in a DataFramen"
   ]
  },
  {
   "cell_type": "code",
   "execution_count": 49,
   "id": "bd697573",
   "metadata": {},
   "outputs": [
    {
     "name": "stdout",
     "output_type": "stream",
     "text": [
      "<class 'pandas.core.frame.DataFrame'>\n",
      "Index: 4 entries, ID_1 to ID_4\n",
      "Data columns (total 5 columns):\n",
      " #   Column      Non-Null Count  Dtype \n",
      "---  ------      --------------  ----- \n",
      " 0   First_Name  4 non-null      object\n",
      " 1   Last_Name   4 non-null      object\n",
      " 2   Age         4 non-null      int64 \n",
      " 3   Major       4 non-null      object\n",
      " 4   Score       4 non-null      int64 \n",
      "dtypes: int64(2), object(3)\n",
      "memory usage: 192.0+ bytes\n"
     ]
    }
   ],
   "source": [
    "students_df1.info() # summary of a data frame which gives the total number columns and rows"
   ]
  },
  {
   "cell_type": "code",
   "execution_count": 50,
   "id": "bc8385fc",
   "metadata": {},
   "outputs": [
    {
     "data": {
      "text/html": [
       "<div>\n",
       "<style scoped>\n",
       "    .dataframe tbody tr th:only-of-type {\n",
       "        vertical-align: middle;\n",
       "    }\n",
       "\n",
       "    .dataframe tbody tr th {\n",
       "        vertical-align: top;\n",
       "    }\n",
       "\n",
       "    .dataframe thead th {\n",
       "        text-align: right;\n",
       "    }\n",
       "</style>\n",
       "<table border=\"1\" class=\"dataframe\">\n",
       "  <thead>\n",
       "    <tr style=\"text-align: right;\">\n",
       "      <th></th>\n",
       "      <th>Age</th>\n",
       "      <th>Score</th>\n",
       "    </tr>\n",
       "  </thead>\n",
       "  <tbody>\n",
       "    <tr>\n",
       "      <th>count</th>\n",
       "      <td>4.00000</td>\n",
       "      <td>4.000000</td>\n",
       "    </tr>\n",
       "    <tr>\n",
       "      <th>mean</th>\n",
       "      <td>29.75000</td>\n",
       "      <td>82.750000</td>\n",
       "    </tr>\n",
       "    <tr>\n",
       "      <th>std</th>\n",
       "      <td>3.86221</td>\n",
       "      <td>6.601767</td>\n",
       "    </tr>\n",
       "    <tr>\n",
       "      <th>min</th>\n",
       "      <td>26.00000</td>\n",
       "      <td>75.000000</td>\n",
       "    </tr>\n",
       "    <tr>\n",
       "      <th>25%</th>\n",
       "      <td>27.50000</td>\n",
       "      <td>78.750000</td>\n",
       "    </tr>\n",
       "    <tr>\n",
       "      <th>50%</th>\n",
       "      <td>29.00000</td>\n",
       "      <td>83.000000</td>\n",
       "    </tr>\n",
       "    <tr>\n",
       "      <th>75%</th>\n",
       "      <td>31.25000</td>\n",
       "      <td>87.000000</td>\n",
       "    </tr>\n",
       "    <tr>\n",
       "      <th>max</th>\n",
       "      <td>35.00000</td>\n",
       "      <td>90.000000</td>\n",
       "    </tr>\n",
       "  </tbody>\n",
       "</table>\n",
       "</div>"
      ],
      "text/plain": [
       "            Age      Score\n",
       "count   4.00000   4.000000\n",
       "mean   29.75000  82.750000\n",
       "std     3.86221   6.601767\n",
       "min    26.00000  75.000000\n",
       "25%    27.50000  78.750000\n",
       "50%    29.00000  83.000000\n",
       "75%    31.25000  87.000000\n",
       "max    35.00000  90.000000"
      ]
     },
     "execution_count": 50,
     "metadata": {},
     "output_type": "execute_result"
    }
   ],
   "source": [
    "students_df1.describe() # a summary of statistical details "
   ]
  }
 ],
 "metadata": {
  "kernelspec": {
   "display_name": "Python 3 (ipykernel)",
   "language": "python",
   "name": "python3"
  },
  "language_info": {
   "codemirror_mode": {
    "name": "ipython",
    "version": 3
   },
   "file_extension": ".py",
   "mimetype": "text/x-python",
   "name": "python",
   "nbconvert_exporter": "python",
   "pygments_lexer": "ipython3",
   "version": "3.9.19"
  }
 },
 "nbformat": 4,
 "nbformat_minor": 5
}
